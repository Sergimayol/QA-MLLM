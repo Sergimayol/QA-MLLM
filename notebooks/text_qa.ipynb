{
 "cells": [
  {
   "cell_type": "code",
   "execution_count": 30,
   "metadata": {},
   "outputs": [],
   "source": [
    "from transformers import pipeline\n",
    "import torch"
   ]
  },
  {
   "cell_type": "code",
   "execution_count": 31,
   "metadata": {},
   "outputs": [
    {
     "name": "stdout",
     "output_type": "stream",
     "text": [
      "[device(type='cuda', index=0)]\n"
     ]
    }
   ],
   "source": [
    "# Get all the devices that torch sees\n",
    "devices = [torch.device(f\"cuda:{i}\") for i in range(torch.cuda.device_count())]\n",
    "print(devices)"
   ]
  },
  {
   "cell_type": "code",
   "execution_count": 32,
   "metadata": {},
   "outputs": [],
   "source": [
    "device = torch.device(\"cuda:0\" if torch.cuda.is_available() else \"cpu\")"
   ]
  },
  {
   "cell_type": "code",
   "execution_count": 33,
   "metadata": {},
   "outputs": [],
   "source": [
    "model_name = \"deepset/roberta-base-squad2\"\n",
    "\n",
    "qa = pipeline(\n",
    "    \"question-answering\", model=model_name, tokenizer=model_name, device=device\n",
    ")"
   ]
  },
  {
   "cell_type": "code",
   "execution_count": 34,
   "metadata": {},
   "outputs": [],
   "source": [
    "QA_input = {\n",
    "    \"question\": \"Why is model conversion important?\",\n",
    "    \"context\": \"The option to convert models between FARM and transformers gives freedom to the user and let people easily switch between frameworks.\",\n",
    "}"
   ]
  },
  {
   "cell_type": "code",
   "execution_count": 35,
   "metadata": {},
   "outputs": [
    {
     "name": "stdout",
     "output_type": "stream",
     "text": [
      "{'score': 0.21171432733535767, 'start': 59, 'end': 84, 'answer': 'gives freedom to the user'}\n"
     ]
    }
   ],
   "source": [
    "res = qa(QA_input)\n",
    "print(res)"
   ]
  },
  {
   "cell_type": "code",
   "execution_count": 36,
   "metadata": {},
   "outputs": [],
   "source": [
    "QA_input = {\n",
    "    \"question\": \"How tall is the Eiffel tower?\",\n",
    "    \"context\": \"The tower is 324 metres (1,063 ft) tall, about the same height as an 81-storey building, and the tallest structure in Paris. Its base is square, measuring 125 metres (410 ft) on each side. During its construction, the Eiffel Tower surpassed the Washington Monument to become the tallest man-made structure in the world, a title it held for 41 years until the Chrysler Building in New York City was finished in 1930. It was the first structure to reach a height of 300 metres. Due to the addition of a broadcasting aerial at the top of the tower in 1957, it is now taller than the Chrysler Building by 5.2 metres (17 ft). Excluding transmitters, the Eiffel Tower is the second tallest free-standing structure in France after the Millau Viaduct.\",\n",
    "}"
   ]
  },
  {
   "cell_type": "code",
   "execution_count": 37,
   "metadata": {},
   "outputs": [
    {
     "name": "stdout",
     "output_type": "stream",
     "text": [
      "{'score': 0.33186739683151245, 'start': 13, 'end': 39, 'answer': '324 metres (1,063 ft) tall'}\n"
     ]
    }
   ],
   "source": [
    "res = qa(QA_input)\n",
    "print(res)"
   ]
  },
  {
   "cell_type": "code",
   "execution_count": 38,
   "metadata": {},
   "outputs": [],
   "source": [
    "text = None\n",
    "with open(\"./data/text.txt\", \"rb\") as f:\n",
    "    text = f.read().decode(\"utf-8\")\n",
    "\n",
    "QA_input = {\n",
    "    \"question\": \"Which of the person is a freelancer?\",\n",
    "    \"context\": text,\n",
    "}"
   ]
  },
  {
   "cell_type": "code",
   "execution_count": 39,
   "metadata": {},
   "outputs": [
    {
     "name": "stdout",
     "output_type": "stream",
     "text": [
      "{'score': 0.5399224758148193, 'start': 2114, 'end': 2118, 'answer': 'Lily'}\n"
     ]
    }
   ],
   "source": [
    "res = qa(QA_input)\n",
    "print(res)"
   ]
  },
  {
   "cell_type": "code",
   "execution_count": 40,
   "metadata": {},
   "outputs": [],
   "source": [
    "QA_input = {\n",
    "    \"question\": \"What person works for an IT company?\",\n",
    "    \"context\": text,\n",
    "}"
   ]
  },
  {
   "cell_type": "code",
   "execution_count": 41,
   "metadata": {},
   "outputs": [
    {
     "name": "stdout",
     "output_type": "stream",
     "text": [
      "{'score': 0.0039100865833461285, 'start': 1420, 'end': 1426, 'answer': 'Marcus'}\n"
     ]
    }
   ],
   "source": [
    "res = qa(QA_input)\n",
    "print(res)"
   ]
  },
  {
   "cell_type": "code",
   "execution_count": 42,
   "metadata": {},
   "outputs": [],
   "source": [
    "text = None\n",
    "with open(\"./data/text2.txt\", \"rb\") as f:\n",
    "    text = f.read().decode(\"utf-8\")"
   ]
  },
  {
   "cell_type": "code",
   "execution_count": 43,
   "metadata": {},
   "outputs": [],
   "source": [
    "QA_input = {\n",
    "    \"question\": \"From which university is Professor Duncan Wass?\",\n",
    "    \"context\": text,\n",
    "}"
   ]
  },
  {
   "cell_type": "code",
   "execution_count": 44,
   "metadata": {},
   "outputs": [
    {
     "name": "stdout",
     "output_type": "stream",
     "text": [
      "{'score': 0.5673414468765259, 'start': 729, 'end': 750, 'answer': 'University of Bristol'}\n"
     ]
    }
   ],
   "source": [
    "res = qa(QA_input)\n",
    "print(res)"
   ]
  },
  {
   "cell_type": "code",
   "execution_count": 45,
   "metadata": {},
   "outputs": [],
   "source": [
    "text = None\n",
    "with open(\"./data/long_text.txt\", \"rb\") as f:\n",
    "    text = f.read().decode(\"utf-8\")"
   ]
  },
  {
   "cell_type": "code",
   "execution_count": 48,
   "metadata": {},
   "outputs": [],
   "source": [
    "QA_input = {\n",
    "    \"question\": \"Who worked in a fairly traditional office environment doing a typical nine-to-five job?\",\n",
    "    \"context\": text,\n",
    "}"
   ]
  },
  {
   "cell_type": "code",
   "execution_count": 49,
   "metadata": {},
   "outputs": [
    {
     "name": "stdout",
     "output_type": "stream",
     "text": [
      "{'score': 0.5769248604774475, 'start': 3864, 'end': 3869, 'answer': 'Ronan'}\n"
     ]
    }
   ],
   "source": [
    "res = qa(QA_input)\n",
    "print(res)"
   ]
  }
 ],
 "metadata": {
  "kernelspec": {
   "display_name": "QA-MLLM",
   "language": "python",
   "name": "python3"
  },
  "language_info": {
   "codemirror_mode": {
    "name": "ipython",
    "version": 3
   },
   "file_extension": ".py",
   "mimetype": "text/x-python",
   "name": "python",
   "nbconvert_exporter": "python",
   "pygments_lexer": "ipython3",
   "version": "3.10.12"
  },
  "orig_nbformat": 4
 },
 "nbformat": 4,
 "nbformat_minor": 2
}
